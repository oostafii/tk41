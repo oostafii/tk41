{
 "cells": [
  {
   "cell_type": "code",
   "execution_count": 17,
   "metadata": {},
   "outputs": [
    {
     "name": "stdout",
     "output_type": "stream",
     "text": [
      "a: змінна з текстом\n"
     ]
    }
   ],
   "source": [
    "a = \"змінна з текстом\"\n",
    "b = 1  # числова змінна\n",
    "b1 = 1.1\n",
    "c = [\"a\", 1, 1.25, \"Слово\", a]  # Список (List)\n",
    "d = {\"a\": \"Слово\", \"b\": 1, a: b}  # Словник (Dict)\n",
    "e = (\"a\", a)  # Кортеж (Tuple)\n",
    "f = {\"ss\", a + str(b)}  # Множина (Set), де b перетворено на рядок\n",
    "\n",
    "print(\"a:\", a)\n"
   ]
  },
  {
   "cell_type": "code",
   "execution_count": 18,
   "metadata": {},
   "outputs": [
    {
     "name": "stdout",
     "output_type": "stream",
     "text": [
      "Перша константа:  True\n",
      "І можна так робити вивід? True\n"
     ]
    }
   ],
   "source": [
    "print(\"Перша константа: \", True)\n",
    "print(f\"І можна так робити вивід? {True}\")"
   ]
  },
  {
   "cell_type": "code",
   "execution_count": 19,
   "metadata": {},
   "outputs": [
    {
     "name": "stdout",
     "output_type": "stream",
     "text": [
      "12.5 є рівним 12.5\n"
     ]
    }
   ],
   "source": [
    "print(abs(-12.5), f\"є рівним {abs(12.5)}\")"
   ]
  },
  {
   "cell_type": "code",
   "execution_count": 20,
   "metadata": {},
   "outputs": [
    {
     "name": "stdout",
     "output_type": "stream",
     "text": [
      "На позиції 0 знаходиться буква a\n",
      "На позиції 1 знаходиться буква b\n",
      "На позиції 2 знаходиться буква c\n"
     ]
    }
   ],
   "source": [
    "letters = [\"a\", \"b\", \"c\"]\n",
    "for i in range(len(letters)):\n",
    "    print(f\"На позиції {i} знаходиться буква {letters[i]}\")"
   ]
  },
  {
   "cell_type": "code",
   "execution_count": 21,
   "metadata": {},
   "outputs": [
    {
     "name": "stdout",
     "output_type": "stream",
     "text": [
      "Значить А=True\n"
     ]
    }
   ],
   "source": [
    "A = True\n",
    "print(\"Значить А=True\" if A else \"Значить А=False\")"
   ]
  },
  {
   "cell_type": "code",
   "execution_count": 22,
   "metadata": {},
   "outputs": [
    {
     "name": "stdout",
     "output_type": "stream",
     "text": [
      "division by zero\n",
      "А вот воно що!\n"
     ]
    }
   ],
   "source": [
    "A = 0\n",
    "try:\n",
    "    print(\"Що буде якщо\", 10/A, \"?\")\n",
    "except Exception as e:\n",
    "    print(e)\n",
    "finally:\n",
    "    print(\"А вот воно що!\")"
   ]
  },
  {
   "cell_type": "code",
   "execution_count": 23,
   "metadata": {},
   "outputs": [
    {
     "name": "stdout",
     "output_type": "stream",
     "text": [
      "# Звіт до роботи\n",
      "\n",
      "## Тема: Основи Python\n",
      "\n",
      "### Мета роботи: Основи програмування на Python\n",
      "\n",
      "\n",
      "\n",
      "\n",
      "\n",
      "\n",
      "\n",
      "* з використанням URL ![alt text](https://github.com/BobasB/it_college/raw/main/reports/pictures/logo-lit.jpg \"ІТ Коледж\")\n",
      "\n",
      "    \n",
      "\n",
      "\n",
      "\n",
      "\n",
      "\n",
      "* вставлений код / текстовий або числовий результат / інші результати:\n",
      "\n",
      "    - так можна вставляти код, або просто вствляйте посилання на файл з програмою;\n",
      "\n",
      "```\n",
      "\n",
      "python\n",
      "\n",
      "A = 0\n",
      "\n",
      "try:\n",
      "\n",
      "    print(\"Що буде якщо\", 10/A, \"?\")\n",
      "\n",
      "except Exception as e:\n",
      "\n",
      "    print(e)\n",
      "\n",
      "finally:\n",
      "\n",
      "    print(\"А вот воно що!\")\n",
      "\n",
      "```\n",
      "\n",
      "\n",
      "\n",
      "* результати виконання індивідуального завдання (якщо такі є);\n",
      "\n",
      "\n",
      "\n",
      "---\n",
      "\n",
      "### Висновок:\n",
      "\n",
      "> у висновку потрібно відповісти на запитання:\n",
      "\n",
      "\n",
      "\n",
      "- :question: Що зроблено в роботі;\n",
      "\n",
      "- :question: Чи досягнуто мети роботи;\n",
      "\n",
      "- :question: Які нові знання отримано;\n",
      "\n",
      "- :question: Чи вдалось відповісти на всі питання задані в ході роботи;\n",
      "\n",
      "- :question: Чи вдалося виконати всі завдання;\n",
      "\n",
      "- :question: Чи виникли складності у виконанні завдання;\n",
      "\n",
      "- :question: Чи подобається такий формат здачі роботи (Feedback);\n",
      "\n",
      "- :question: Побажання для покращення (Suggestions);\n",
      "\n",
      "\n",
      "\n",
      "---\n"
     ]
    }
   ],
   "source": [
    "with open(\"README.md\", \"r\", encoding=\"(utf-8)\") as f:\n",
    "    for line in f:\n",
    "        print(line)"
   ]
  },
  {
   "cell_type": "code",
   "execution_count": 24,
   "metadata": {},
   "outputs": [
    {
     "name": "stdout",
     "output_type": "stream",
     "text": [
      "Це просто функція: <function <lambda> at 0x000001CC5484F240>\n",
      "Це її виклик: Цей код написав: Остап Остап\n"
     ]
    }
   ],
   "source": [
    "this_is_lambda = lambda first, last: f'Цей код написав: {first} {last}'\n",
    "print(\"Це просто функція:\", this_is_lambda)\n",
    "print(\"Це її виклик:\", this_is_lambda('Остап', 'Остап'))"
   ]
  }
 ],
 "metadata": {
  "kernelspec": {
   "display_name": "Python 3",
   "language": "python",
   "name": "python3"
  },
  "language_info": {
   "codemirror_mode": {
    "name": "ipython",
    "version": 3
   },
   "file_extension": ".py",
   "mimetype": "text/x-python",
   "name": "python",
   "nbconvert_exporter": "python",
   "pygments_lexer": "ipython3",
   "version": "3.13.0"
  }
 },
 "nbformat": 4,
 "nbformat_minor": 2
}
