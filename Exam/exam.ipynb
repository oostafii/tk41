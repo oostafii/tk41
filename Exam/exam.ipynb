{
 "cells": [
  {
   "cell_type": "markdown",
   "metadata": {},
   "source": [
    "Створити клас який має статичний метод та повертає результат арифметичної операції"
   ]
  },
  {
   "cell_type": "code",
   "execution_count": 8,
   "metadata": {},
   "outputs": [
    {
     "name": "stdout",
     "output_type": "stream",
     "text": [
      "Сума: 15, Добуток: 50\n"
     ]
    }
   ],
   "source": [
    "class ArithmeticOperations:\n",
    "    @staticmethod\n",
    "    def add_numbers(a, b):\n",
    "        \"\"\"Статичний метод, який повертає суму двох чисел.\"\"\"\n",
    "        return a + b\n",
    "\n",
    "    @staticmethod\n",
    "    def multiply_numbers(a, b):\n",
    "        \"\"\"Статичний метод, який повертає добуток двох чисел.\"\"\"\n",
    "        return a * b\n",
    "\n",
    "# Використання статичних методів\n",
    "result_sum = ArithmeticOperations.add_numbers(10, 5)  # Виведе: 15\n",
    "result_product = ArithmeticOperations.multiply_numbers(10, 5)  # Виведе: 50\n",
    "\n",
    "print(f\"Сума: {result_sum}, Добуток: {result_product}\")\n"
   ]
  }
 ],
 "metadata": {
  "kernelspec": {
   "display_name": "Python 3",
   "language": "python",
   "name": "python3"
  },
  "language_info": {
   "codemirror_mode": {
    "name": "ipython",
    "version": 3
   },
   "file_extension": ".py",
   "mimetype": "text/x-python",
   "name": "python",
   "nbconvert_exporter": "python",
   "pygments_lexer": "ipython3",
   "version": "3.13.0"
  }
 },
 "nbformat": 4,
 "nbformat_minor": 2
}
